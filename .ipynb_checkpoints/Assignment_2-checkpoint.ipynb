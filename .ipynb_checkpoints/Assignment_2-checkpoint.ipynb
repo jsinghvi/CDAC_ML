{
 "cells": [
  {
   "cell_type": "markdown",
   "metadata": {},
   "source": []
  },
  {
   "cell_type": "code",
   "execution_count": 3,
   "metadata": {},
   "outputs": [
    {
     "name": "stdout",
     "output_type": "stream",
     "text": [
      "Enter a number : 9\n",
      "Enter a number : 1\n",
      "Enter a number : 2\n",
      "Enter a number : 3\n",
      "Enter a number : 4\n",
      "Enter a number : 5\n",
      "Enter a number : 1\n",
      "Enter a number : 2\n",
      "Enter a number : 4\n",
      "Enter a number : 3\n",
      "Max =  9  Min =  1\n",
      "Enter a number to search index : 3\n",
      "Element found at :  4\n",
      "Element found at :  10\n",
      "Enter a number to search index : 2\n",
      "Frequency of the said number is :  2\n"
     ]
    }
   ],
   "source": [
    "x = []\n",
    "for i in range(0,10):\n",
    "    x.append(int(input(\"Enter a number : \")))\n",
    "min = 999999\n",
    "max = -999999\n",
    "for a in x:\n",
    "    if max<a:\n",
    "        max=a\n",
    "    if min>a:\n",
    "        min=a\n",
    "print(\"Max = \",max,\" Min = \",min)\n",
    "n = int(input(\"Enter a number to search index : \"))\n",
    "i=0\n",
    "for a in x:\n",
    "    if a==n:\n",
    "        print(\"Element found at : \",i+1)\n",
    "    i+=1\n",
    "n = int(input(\"Enter a number to count occurence : \"))\n",
    "count=0\n",
    "for a in x:\n",
    "    if a==n:\n",
    "        count+=1\n",
    "print(\"Frequency of the said number is : \",count)"
   ]
  },
  {
   "cell_type": "code",
   "execution_count": 4,
   "metadata": {},
   "outputs": [
    {
     "name": "stdout",
     "output_type": "stream",
     "text": [
      "2 4 2 4 "
     ]
    }
   ],
   "source": [
    "for a in x:\n",
    "    if a%2==0:\n",
    "        print(a,end=\" \")"
   ]
  },
  {
   "cell_type": "code",
   "execution_count": 6,
   "metadata": {},
   "outputs": [
    {
     "name": "stdout",
     "output_type": "stream",
     "text": [
      "10\n"
     ]
    }
   ],
   "source": [
    "i=0\n",
    "for _ in x:\n",
    "    i+=1\n",
    "print(i)"
   ]
  },
  {
   "cell_type": "code",
   "execution_count": 7,
   "metadata": {},
   "outputs": [
    {
     "name": "stdout",
     "output_type": "stream",
     "text": [
      "Sorted list is ->  [1, 1, 2, 2, 3, 3, 4, 4, 5, 9]\n"
     ]
    }
   ],
   "source": [
    "for i in range(0,10):\n",
    "    for j in range(0,10-i-1):\n",
    "        if x[j] > x[j+1] :\n",
    "                x[j], x[j+1] = x[j+1], x[j]\n",
    "print(\"Sorted list in Ascending order is -> \",x)"
   ]
  },
  {
   "cell_type": "code",
   "execution_count": 8,
   "metadata": {},
   "outputs": [
    {
     "name": "stdout",
     "output_type": "stream",
     "text": [
      "Sorted list in Descending order is ->  [9, 5, 4, 4, 3, 3, 2, 2, 1, 1]\n"
     ]
    }
   ],
   "source": [
    "for i in range(0,10):\n",
    "    for j in range(0,10-i-1):\n",
    "        if x[j] < x[j+1] :\n",
    "                x[j], x[j+1] = x[j+1], x[j]\n",
    "print(\"Sorted list in Descending order is -> \",x)"
   ]
  },
  {
   "cell_type": "code",
   "execution_count": null,
   "metadata": {},
   "outputs": [],
   "source": []
  }
 ],
 "metadata": {
  "kernelspec": {
   "display_name": "Python 3",
   "language": "python",
   "name": "python3"
  },
  "language_info": {
   "codemirror_mode": {
    "name": "ipython",
    "version": 3
   },
   "file_extension": ".py",
   "mimetype": "text/x-python",
   "name": "python",
   "nbconvert_exporter": "python",
   "pygments_lexer": "ipython3",
   "version": "3.6.4"
  }
 },
 "nbformat": 4,
 "nbformat_minor": 2
}
