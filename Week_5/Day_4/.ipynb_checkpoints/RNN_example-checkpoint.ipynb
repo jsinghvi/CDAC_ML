{
 "cells": [
  {
   "cell_type": "code",
   "execution_count": 1,
   "metadata": {},
   "outputs": [],
   "source": [
    "import numpy as np"
   ]
  },
  {
   "cell_type": "code",
   "execution_count": 19,
   "metadata": {},
   "outputs": [],
   "source": [
    "file = open('./data/my_kind.txt','r').read()\n",
    "# for row in file.readlines():\n",
    "#     print(row)"
   ]
  },
  {
   "cell_type": "code",
   "execution_count": 26,
   "metadata": {},
   "outputs": [
    {
     "name": "stdout",
     "output_type": "stream",
     "text": [
      "data has 774 chars and 37 unique chars\n",
      "['p', 't', 'd', 'I', \"'\", 's', 'n', 'f', 'A', 'l', 'q', 'b', 'W', 'T', 'k', 'g', 'o', 'C', 'N', 'v', 'c', 'r', 'i', 'h', 'S', 'Y', '…', 'w', ',', 'a', 'm', 'u', 'y', 'B', ' ', '\\n', 'e']\n"
     ]
    }
   ],
   "source": [
    "chars = list(set(file))\n",
    "data_size, vocab_size = len(file) , len(chars)\n",
    "print('data has %d chars and %d unique chars'%(data_size,vocab_size))\n",
    "print(chars)"
   ]
  },
  {
   "cell_type": "code",
   "execution_count": 27,
   "metadata": {},
   "outputs": [
    {
     "name": "stdout",
     "output_type": "stream",
     "text": [
      "Beginning\n",
      "{'p': 0, 't': 1, 'd': 2, 'I': 3, \"'\": 4, 's': 5, 'n': 6, 'f': 7, 'A': 8, 'l': 9, 'q': 10, 'b': 11, 'W': 12, 'T': 13, 'k': 14, 'g': 15, 'o': 16, 'C': 17, 'N': 18, 'v': 19, 'c': 20, 'r': 21, 'i': 22, 'h': 23, 'S': 24, 'Y': 25, '…': 26, 'w': 27, ',': 28, 'a': 29, 'm': 30, 'u': 31, 'y': 32, 'B': 33, ' ': 34, '\\n': 35, 'e': 36}\n",
      "Middle\n",
      "{0: 'p', 1: 't', 2: 'd', 3: 'I', 4: \"'\", 5: 's', 6: 'n', 7: 'f', 8: 'A', 9: 'l', 10: 'q', 11: 'b', 12: 'W', 13: 'T', 14: 'k', 15: 'g', 16: 'o', 17: 'C', 18: 'N', 19: 'v', 20: 'c', 21: 'r', 22: 'i', 23: 'h', 24: 'S', 25: 'Y', 26: '…', 27: 'w', 28: ',', 29: 'a', 30: 'm', 31: 'u', 32: 'y', 33: 'B', 34: ' ', 35: '\\n', 36: 'e'}\n",
      "End\n"
     ]
    }
   ],
   "source": [
    "char_to_ix = {ch:i for i,ch in enumerate(chars)}\n",
    "ix_to_char = {i:ch for i,ch in enumerate(chars)}\n",
    "print(\"Beginning\")\n",
    "print(char_to_ix)\n",
    "print(\"Middle\")\n",
    "print(ix_to_char)\n",
    "print(\"End\")\n"
   ]
  },
  {
   "cell_type": "code",
   "execution_count": 28,
   "metadata": {},
   "outputs": [
    {
     "name": "stdout",
     "output_type": "stream",
     "text": [
      "[0. 0. 0. 0. 0. 0. 0. 0. 0. 0. 0. 0. 0. 0. 0. 0. 0. 0. 0. 0. 0. 0. 0. 0.\n",
      " 0. 0. 0. 0. 0. 1. 0. 0. 0. 0. 0. 0. 0.]\n",
      "(37, 1)\n"
     ]
    }
   ],
   "source": [
    "vector_for_char_a = np.zeros((vocab_size,1))\n",
    "vector_for_char_a[char_to_ix['a']] = 1\n",
    "print(vector_for_char_a.ravel())\n",
    "print(vector_for_char_a.shape)"
   ]
  },
  {
   "cell_type": "code",
   "execution_count": 30,
   "metadata": {},
   "outputs": [],
   "source": [
    "hidden_size = 100\n",
    "seq_length = 25\n",
    "lr = 1e-1\n",
    "Wxh = np.random.randn(hidden_size,vocab_size) * 0.01\n",
    "Whh = np.random.randn(hidden_size,hidden_size) * 0.01\n",
    "Why = np.random.randn(vocab_size,hidden_size) * 0.01\n",
    "bh = np.zeros((hidden_size,1))\n",
    "by = np.zeros((vocab_size,1))"
   ]
  },
  {
   "cell_type": "code",
   "execution_count": null,
   "metadata": {},
   "outputs": [],
   "source": [
    "hs[t] = np.tanh(np.dot(Wxh,xs[t]) + np.dot(Whh,hs[t-1])+bh)\n",
    "ys[t] = np.tanh(np.dot(Why,hs[t]) + by)\n",
    "ps[t] = np.exp(ys[t]) / np.sum(np.exp(ys[t]))\n"
   ]
  }
 ],
 "metadata": {
  "kernelspec": {
   "display_name": "Python 3",
   "language": "python",
   "name": "python3"
  },
  "language_info": {
   "codemirror_mode": {
    "name": "ipython",
    "version": 3
   },
   "file_extension": ".py",
   "mimetype": "text/x-python",
   "name": "python",
   "nbconvert_exporter": "python",
   "pygments_lexer": "ipython3",
   "version": "3.6.4"
  }
 },
 "nbformat": 4,
 "nbformat_minor": 2
}
