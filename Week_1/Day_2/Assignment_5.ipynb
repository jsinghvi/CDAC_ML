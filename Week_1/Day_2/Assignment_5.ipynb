{
 "cells": [
  {
   "cell_type": "code",
   "execution_count": 2,
   "metadata": {},
   "outputs": [],
   "source": [
    "x = [1,2,3,4,5]"
   ]
  },
  {
   "cell_type": "code",
   "execution_count": 8,
   "metadata": {},
   "outputs": [
    {
     "name": "stdout",
     "output_type": "stream",
     "text": [
      "1. Push \n",
      " 2. Pop \n",
      " 3. Display items\n",
      "Enter your choice :2\n",
      "Popped!\n",
      "Continue? (y=1/n=0) :1\n",
      "1. Push \n",
      " 2. Pop \n",
      " 3. Display items\n",
      "Enter your choice :3\n",
      "[1, 2, 3, 4, 5]\n",
      "Continue? (y=1/n=0) :0\n"
     ]
    }
   ],
   "source": [
    "ch2=1\n",
    "while ch2==1:\n",
    "    print(\"1. Push \\n 2. Pop \\n 3. Display items\")\n",
    "    ch = int(input(\"Enter your choice :\"))\n",
    "    if ch==1:\n",
    "        x.append(int(input(\"Enter element to PUSH :\")))\n",
    "        print(\"Pushed to list!\")\n",
    "    elif ch==2:\n",
    "        x=x[:-1]\n",
    "        print(\"Popped!\")\n",
    "    else:\n",
    "        print(x)\n",
    "    ch2 = int(input(\"Continue? (y=1/n=0) :\"))"
   ]
  },
  {
   "cell_type": "code",
   "execution_count": null,
   "metadata": {},
   "outputs": [],
   "source": []
  }
 ],
 "metadata": {
  "kernelspec": {
   "display_name": "Python 3",
   "language": "python",
   "name": "python3"
  },
  "language_info": {
   "codemirror_mode": {
    "name": "ipython",
    "version": 3
   },
   "file_extension": ".py",
   "mimetype": "text/x-python",
   "name": "python",
   "nbconvert_exporter": "python",
   "pygments_lexer": "ipython3",
   "version": "3.6.4"
  }
 },
 "nbformat": 4,
 "nbformat_minor": 2
}
