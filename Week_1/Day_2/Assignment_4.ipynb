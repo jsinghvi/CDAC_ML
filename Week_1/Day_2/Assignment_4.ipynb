{
 "cells": [
  {
   "cell_type": "code",
   "execution_count": 1,
   "metadata": {},
   "outputs": [
    {
     "name": "stdout",
     "output_type": "stream",
     "text": [
      "Enter a number : 1\n",
      "Enter a number : 2\n",
      "Enter a number : 3\n",
      "Enter a number : 4\n",
      "Enter a number : 1\n",
      "Enter a number : 2\n",
      "Enter a number : 3\n",
      "Enter a number : 2\n",
      "Enter a number : 1\n",
      "Enter a number : 2\n"
     ]
    }
   ],
   "source": [
    "x = []\n",
    "for i in range(0,10):\n",
    "    x.append(int(input(\"Enter a number : \")))\n",
    "    "
   ]
  },
  {
   "cell_type": "code",
   "execution_count": 5,
   "metadata": {},
   "outputs": [],
   "source": [
    "y = []\n",
    "for a in x:\n",
    "    count=0\n",
    "    for b in y:\n",
    "        if b==a:\n",
    "            count+=1\n",
    "    if count==0:\n",
    "        y.append(a)\n",
    "    else:\n",
    "        continue"
   ]
  },
  {
   "cell_type": "code",
   "execution_count": 12,
   "metadata": {},
   "outputs": [
    {
     "name": "stdout",
     "output_type": "stream",
     "text": [
      "Element 1 found at index : 0 4 8 and frequency is : 3\n",
      "Element 2 found at index : 1 5 7 9 and frequency is : 4\n",
      "Element 3 found at index : 2 6 and frequency is : 2\n",
      "Element 4 found at index : 3 and frequency is : 1\n"
     ]
    }
   ],
   "source": [
    "for a in y:\n",
    "    print(\"Element\",a,\"found at index :\",end=\" \")\n",
    "    loc=0\n",
    "    count=0\n",
    "    for b in x:\n",
    "        if a==b:\n",
    "            print(loc,end=\" \")\n",
    "            count+=1\n",
    "        loc+=1\n",
    "    print(\"and frequency is :\",count)"
   ]
  },
  {
   "cell_type": "code",
   "execution_count": null,
   "metadata": {},
   "outputs": [],
   "source": []
  }
 ],
 "metadata": {
  "kernelspec": {
   "display_name": "Python 3",
   "language": "python",
   "name": "python3"
  },
  "language_info": {
   "codemirror_mode": {
    "name": "ipython",
    "version": 3
   },
   "file_extension": ".py",
   "mimetype": "text/x-python",
   "name": "python",
   "nbconvert_exporter": "python",
   "pygments_lexer": "ipython3",
   "version": "3.6.4"
  }
 },
 "nbformat": 4,
 "nbformat_minor": 2
}
