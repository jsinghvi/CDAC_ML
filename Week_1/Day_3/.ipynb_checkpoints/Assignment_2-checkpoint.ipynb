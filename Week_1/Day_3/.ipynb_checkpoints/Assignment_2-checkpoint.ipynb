{
 "cells": [
  {
   "cell_type": "code",
   "execution_count": 2,
   "metadata": {},
   "outputs": [
    {
     "name": "stdout",
     "output_type": "stream",
     "text": [
      "Enter elements for a 3D matrix : \n",
      "1\n",
      "2\n",
      "3\n",
      "4\n",
      "5\n",
      "6\n",
      "7\n",
      "8\n",
      "9\n"
     ]
    }
   ],
   "source": [
    "print(\"Enter elements for a 3D matrix : \")\n",
    "a = [[int(input()) for x in range(3)] for y in range(3)]"
   ]
  },
  {
   "cell_type": "code",
   "execution_count": 3,
   "metadata": {},
   "outputs": [],
   "source": [
    "bottom_left = top_right = left_diag = right_diag = 0\n",
    "left_diag = a[0][0] + a[1][1] + a[2][2]\n",
    "right_diag = a[0][2] + a[1][1] + a[2][0]\n",
    "top_right = a[0][1] + a[0][2] + a[1][2]\n",
    "bottom_left = a[1][0] + a[2][0] + a[2][1]"
   ]
  },
  {
   "cell_type": "code",
   "execution_count": 4,
   "metadata": {},
   "outputs": [
    {
     "name": "stdout",
     "output_type": "stream",
     "text": [
      "Left diag = 15 Right diag = 15 Bottom Left = 19 Top right =  11\n"
     ]
    }
   ],
   "source": [
    "print(\"Left diag =\",left_diag,\"Right diag =\",right_diag,\"Bottom Left =\",bottom_left,\"Top right = \",top_right)"
   ]
  },
  {
   "cell_type": "code",
   "execution_count": null,
   "metadata": {},
   "outputs": [],
   "source": []
  }
 ],
 "metadata": {
  "kernelspec": {
   "display_name": "Python 3",
   "language": "python",
   "name": "python3"
  },
  "language_info": {
   "codemirror_mode": {
    "name": "ipython",
    "version": 3
   },
   "file_extension": ".py",
   "mimetype": "text/x-python",
   "name": "python",
   "nbconvert_exporter": "python",
   "pygments_lexer": "ipython3",
   "version": "3.6.4"
  }
 },
 "nbformat": 4,
 "nbformat_minor": 2
}
