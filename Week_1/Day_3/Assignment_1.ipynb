{
 "cells": [
  {
   "cell_type": "code",
   "execution_count": 2,
   "metadata": {},
   "outputs": [
    {
     "name": "stdout",
     "output_type": "stream",
     "text": [
      "Enter elements for a 3D matrix : \n",
      "1\n",
      "2\n",
      "3\n",
      "4\n",
      "5\n",
      "6\n",
      "7\n",
      "8\n",
      "9\n"
     ]
    }
   ],
   "source": [
    "print(\"Enter elements for a 3D matrix : \")\n",
    "a = [[int(input()) for x in range(3)] for y in range(3)]"
   ]
  },
  {
   "cell_type": "code",
   "execution_count": 3,
   "metadata": {},
   "outputs": [
    {
     "name": "stdout",
     "output_type": "stream",
     "text": [
      "[[1, 2, 3], [4, 5, 6], [7, 8, 9]]\n"
     ]
    }
   ],
   "source": [
    "print(a)"
   ]
  },
  {
   "cell_type": "code",
   "execution_count": 15,
   "metadata": {},
   "outputs": [],
   "source": [
    "row1 = row2 = row3 = col1 = col2 = col3 = diag1 = diag2 = 0\n",
    "for j in range(3):\n",
    "    row1 = row1 + a[0][j]\n",
    "    row2 = row2 + a[1][j]\n",
    "    row3 = row3 + a[2][j]\n",
    "    col1 = col1 + a[j][0]\n",
    "    col2 = col2 + a[j][1]\n",
    "    col3 = col3 + a[j][2]\n",
    "\n",
    "diag1 = a[0][0] + a[1][1] + a[2][2]\n",
    "diag2 = a[0][2] + a[1][1] + a[2][0]"
   ]
  },
  {
   "cell_type": "code",
   "execution_count": 16,
   "metadata": {},
   "outputs": [
    {
     "name": "stdout",
     "output_type": "stream",
     "text": [
      "6 15 24 12 15 18 15 15\n"
     ]
    }
   ],
   "source": [
    "print(row1, row2, row3,col1,col2,col3,diag1,diag2)"
   ]
  },
  {
   "cell_type": "code",
   "execution_count": 35,
   "metadata": {},
   "outputs": [
    {
     "name": "stdout",
     "output_type": "stream",
     "text": [
      "      1   2   3   -> 6\n",
      "      4   5   6   -> 15\n",
      "      7   8   9   -> 24\n",
      "    / |    |   | \\\n",
      "15   12   15   18   15\n"
     ]
    }
   ],
   "source": [
    "for i in range(3):\n",
    "    for k in range(3):\n",
    "        print(\" \",end=\" \")\n",
    "    for j in range(3):\n",
    "        print(a[i][j],\" \",end=\" \")\n",
    "    if i==0:\n",
    "        print(\"->\",row1)\n",
    "    if i==1:\n",
    "        print(\"->\",row2)\n",
    "    if i==2:\n",
    "        print(\"->\",row3)\n",
    "print(\"    / |    |   | \\\\\")\n",
    "print(diag2,\" \",col1,\" \",col2,\" \",col3,\" \",diag1)"
   ]
  },
  {
   "cell_type": "code",
   "execution_count": null,
   "metadata": {},
   "outputs": [],
   "source": []
  }
 ],
 "metadata": {
  "kernelspec": {
   "display_name": "Python 3",
   "language": "python",
   "name": "python3"
  },
  "language_info": {
   "codemirror_mode": {
    "name": "ipython",
    "version": 3
   },
   "file_extension": ".py",
   "mimetype": "text/x-python",
   "name": "python",
   "nbconvert_exporter": "python",
   "pygments_lexer": "ipython3",
   "version": "3.6.4"
  }
 },
 "nbformat": 4,
 "nbformat_minor": 2
}
