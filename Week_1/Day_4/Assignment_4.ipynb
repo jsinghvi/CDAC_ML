{
 "cells": [
  {
   "cell_type": "code",
   "execution_count": 28,
   "metadata": {},
   "outputs": [
    {
     "name": "stdout",
     "output_type": "stream",
     "text": [
      "Enter a String :hello\n",
      "Enter another String :world\n"
     ]
    }
   ],
   "source": [
    "s1 = input(\"Enter a String :\")\n",
    "s2 = input(\"Enter another String :\")\n",
    "# a = [x for x in s1]\n",
    "# b = [x for x in s2]"
   ]
  },
  {
   "cell_type": "code",
   "execution_count": 29,
   "metadata": {},
   "outputs": [],
   "source": [
    "# print(a)"
   ]
  },
  {
   "cell_type": "code",
   "execution_count": 30,
   "metadata": {},
   "outputs": [
    {
     "name": "stdout",
     "output_type": "stream",
     "text": [
      "Length of the first string is : 5\n"
     ]
    }
   ],
   "source": [
    "count=0\n",
    "for x in s1:\n",
    "    count+=1\n",
    "print(\"Length of the first string is :\",count)"
   ]
  },
  {
   "cell_type": "code",
   "execution_count": 31,
   "metadata": {},
   "outputs": [
    {
     "name": "stdout",
     "output_type": "stream",
     "text": [
      "Length of the second string is : 5\n"
     ]
    }
   ],
   "source": [
    "count=0\n",
    "for x in s2:\n",
    "    count+=1\n",
    "print(\"Length of the second string is :\",count)"
   ]
  },
  {
   "cell_type": "code",
   "execution_count": 59,
   "metadata": {},
   "outputs": [
    {
     "name": "stdout",
     "output_type": "stream",
     "text": [
      "Reverse of the first string is : olleh and it's not a Palindrome\n"
     ]
    }
   ],
   "source": [
    "temp_a = s1[::-1]\n",
    "print(\"Reverse of the first string is :\",temp_a,end=\" \")\n",
    "if s1==temp_a:\n",
    "    print(\"and it's a Palindrome\")\n",
    "else:\n",
    "    print(\"and it's not a Palindrome\")"
   ]
  },
  {
   "cell_type": "code",
   "execution_count": 58,
   "metadata": {},
   "outputs": [
    {
     "name": "stdout",
     "output_type": "stream",
     "text": [
      "Reverse of the second string is : dlrow and it's not a Palindrome\n"
     ]
    }
   ],
   "source": [
    "temp_b = s2[::-1]\n",
    "print(\"Reverse of the second string is :\",temp_b,end=\" \")\n",
    "if s2==temp_b:\n",
    "    print(\"and it's a Palindrome\")\n",
    "else:\n",
    "    print(\"and it's not a Palindrome\")"
   ]
  },
  {
   "cell_type": "code",
   "execution_count": 35,
   "metadata": {},
   "outputs": [
    {
     "name": "stdout",
     "output_type": "stream",
     "text": [
      "Strings are not equal!\n"
     ]
    }
   ],
   "source": [
    "if s1==s2:\n",
    "    print(\"Strings are the same!\")\n",
    "else:\n",
    "    print(\"Strings are not equal!\")"
   ]
  },
  {
   "cell_type": "code",
   "execution_count": 53,
   "metadata": {},
   "outputs": [],
   "source": [
    "a = [x for x in s1]\n",
    "b = [x for x in s2]"
   ]
  },
  {
   "cell_type": "code",
   "execution_count": 54,
   "metadata": {},
   "outputs": [
    {
     "name": "stdout",
     "output_type": "stream",
     "text": [
      "Concatenation of the Strings is : helloworld\n"
     ]
    }
   ],
   "source": [
    "c = a\n",
    "for i in b:\n",
    "    c.append(i)\n",
    "print(\"Concatenation of the Strings is :\",''.join(c))"
   ]
  },
  {
   "cell_type": "code",
   "execution_count": null,
   "metadata": {},
   "outputs": [],
   "source": []
  }
 ],
 "metadata": {
  "kernelspec": {
   "display_name": "Python 3",
   "language": "python",
   "name": "python3"
  },
  "language_info": {
   "codemirror_mode": {
    "name": "ipython",
    "version": 3
   },
   "file_extension": ".py",
   "mimetype": "text/x-python",
   "name": "python",
   "nbconvert_exporter": "python",
   "pygments_lexer": "ipython3",
   "version": "3.6.4"
  }
 },
 "nbformat": 4,
 "nbformat_minor": 2
}
