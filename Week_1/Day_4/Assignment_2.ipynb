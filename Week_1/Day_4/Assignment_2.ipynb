{
 "cells": [
  {
   "cell_type": "code",
   "execution_count": 2,
   "metadata": {},
   "outputs": [
    {
     "name": "stdout",
     "output_type": "stream",
     "text": [
      "Enter the first list :\n",
      "Enter the number of rows :2\n",
      "Enter the number of columns :2\n",
      "1\n",
      "2\n",
      "3\n",
      "4\n",
      "Enter the second list :\n",
      "Enter the number of rows :2\n",
      "Enter the number of columns :2\n",
      "5\n",
      "6\n",
      "7\n",
      "8\n"
     ]
    }
   ],
   "source": [
    "print(\"Enter the first list :\")\n",
    "r1 = int(input(\"Enter the number of rows :\"))\n",
    "c1 = int(input(\"Enter the number of columns :\"))\n",
    "a = [[int(input()) for x in range(r1)] for y in range(c1)]\n",
    "print(\"Enter the second list :\")\n",
    "r2 = int(input(\"Enter the number of rows :\"))\n",
    "c2 = int(input(\"Enter the number of columns :\"))\n",
    "b = [[int(input()) for x in range(r2)] for y in range(c2)]"
   ]
  },
  {
   "cell_type": "code",
   "execution_count": 3,
   "metadata": {},
   "outputs": [
    {
     "name": "stdout",
     "output_type": "stream",
     "text": [
      "The product of the list is : [[19, 22], [43, 50]]\n"
     ]
    }
   ],
   "source": [
    "c = [[0 for x in range(r1)] for y in range(c2)]\n",
    "for i in range(r1):\n",
    "    for j in range(c2):\n",
    "        c[i][j]=0\n",
    "        for k in range(c2):\n",
    "            c[i][j]+=a[i][k]*b[k][j]\n",
    "    \n",
    "print(\"The product of the list is :\",c)"
   ]
  },
  {
   "cell_type": "code",
   "execution_count": 4,
   "metadata": {},
   "outputs": [
    {
     "name": "stdout",
     "output_type": "stream",
     "text": [
      "Sum of original and transpose is : [[2, 5], [5, 8]]\n"
     ]
    }
   ],
   "source": [
    "c = [[0 for x in range(r1)] for y in range(c1)]\n",
    "for i in range(r1):\n",
    "    for j in range(c1):\n",
    "        c[i][j]=a[i][j]+a[j][i]\n",
    "        \n",
    "print(\"Sum of original and transpose of first list is :\",c)"
   ]
  },
  {
   "cell_type": "code",
   "execution_count": 5,
   "metadata": {},
   "outputs": [
    {
     "name": "stdout",
     "output_type": "stream",
     "text": [
      "Sum of original and transpose of second list is : [[10, 13], [13, 16]]\n"
     ]
    }
   ],
   "source": [
    "c = [[0 for x in range(r2)] for y in range(c2)]\n",
    "for i in range(r2):\n",
    "    for j in range(c2):\n",
    "        c[i][j]=b[i][j]+b[j][i]\n",
    "        \n",
    "print(\"Sum of original and transpose of second list is :\",c)"
   ]
  },
  {
   "cell_type": "code",
   "execution_count": null,
   "metadata": {},
   "outputs": [],
   "source": []
  }
 ],
 "metadata": {
  "kernelspec": {
   "display_name": "Python 3",
   "language": "python",
   "name": "python3"
  },
  "language_info": {
   "codemirror_mode": {
    "name": "ipython",
    "version": 3
   },
   "file_extension": ".py",
   "mimetype": "text/x-python",
   "name": "python",
   "nbconvert_exporter": "python",
   "pygments_lexer": "ipython3",
   "version": "3.6.4"
  }
 },
 "nbformat": 4,
 "nbformat_minor": 2
}
