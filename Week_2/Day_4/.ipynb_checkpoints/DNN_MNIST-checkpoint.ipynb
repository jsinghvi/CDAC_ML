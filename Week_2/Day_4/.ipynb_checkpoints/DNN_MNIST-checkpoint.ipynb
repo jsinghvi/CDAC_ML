{
 "cells": [
  {
   "cell_type": "code",
   "execution_count": 1,
   "metadata": {},
   "outputs": [
    {
     "name": "stderr",
     "output_type": "stream",
     "text": [
      "/home/kullu/anaconda3/lib/python3.6/site-packages/h5py/__init__.py:36: FutureWarning: Conversion of the second argument of issubdtype from `float` to `np.floating` is deprecated. In future, it will be treated as `np.float64 == np.dtype(float).type`.\n",
      "  from ._conv import register_converters as _register_converters\n"
     ]
    }
   ],
   "source": [
    "import tensorflow as tf"
   ]
  },
  {
   "cell_type": "code",
   "execution_count": 3,
   "metadata": {},
   "outputs": [],
   "source": [
    "from tensorflow.examples.tutorials.mnist import input_data"
   ]
  },
  {
   "cell_type": "code",
   "execution_count": 4,
   "metadata": {},
   "outputs": [
    {
     "name": "stdout",
     "output_type": "stream",
     "text": [
      "Extracting /tmp/data/train-images-idx3-ubyte.gz\n",
      "Extracting /tmp/data/train-labels-idx1-ubyte.gz\n",
      "Extracting /tmp/data/t10k-images-idx3-ubyte.gz\n",
      "Extracting /tmp/data/t10k-labels-idx1-ubyte.gz\n"
     ]
    }
   ],
   "source": [
    "mnist = input_data.read_data_sets(\"/tmp/data/\",one_hot=True)"
   ]
  },
  {
   "cell_type": "code",
   "execution_count": 5,
   "metadata": {},
   "outputs": [],
   "source": [
    "n_nodes_hl1 = 500\n",
    "n_nodes_hl2 = 500\n",
    "n_nodes_hl3 = 500\n",
    "\n",
    "n_classes = 10\n",
    "batch_size = 100"
   ]
  },
  {
   "cell_type": "code",
   "execution_count": 6,
   "metadata": {},
   "outputs": [],
   "source": [
    "x = tf.placeholder('float',[None,784])\n",
    "y = tf.placeholder('float')"
   ]
  },
  {
   "cell_type": "code",
   "execution_count": 7,
   "metadata": {},
   "outputs": [],
   "source": [
    "def neural_network_model(data):\n",
    "\thidden_1_layer = {'weights':tf.Variable(tf.random_normal([784,n_nodes_hl1])),'biases':tf.Variable(tf.random_normal([n_nodes_hl1]))}\n",
    "\n",
    "\thidden_2_layer = {'weights':tf.Variable(tf.random_normal([n_nodes_hl1,n_nodes_hl2])),'biases':tf.Variable(tf.random_normal([n_nodes_hl2]))}\n",
    "\n",
    "\n",
    "\thidden_3_layer = {'weights':tf.Variable(tf.random_normal([n_nodes_hl2,n_nodes_hl3])),'biases':tf.Variable(tf.random_normal([n_nodes_hl3]))}\n",
    "\n",
    "\n",
    "\toutput_layer = {'weights':tf.Variable(tf.random_normal([n_nodes_hl3,n_classes])),'biases':tf.Variable(tf.random_normal([n_classes]))}\n",
    "\n",
    "\tl1 = tf.add(tf.matmul(data,hidden_1_layer['weights']),hidden_1_layer['biases'])\n",
    "\n",
    "\tl1 = tf.nn.relu(l1)\n",
    "\t\n",
    "\tl2 = tf.add(tf.matmul(l1,hidden_2_layer['weights']),hidden_2_layer['biases'])\n",
    "\n",
    "\tl2 = tf.nn.relu(l2)\n",
    "\t\n",
    "\tl3 = tf.add(tf.matmul(l2,hidden_3_layer['weights']),hidden_3_layer['biases'])\n",
    "\n",
    "\tl3 = tf.nn.relu(l3)\n",
    "\t\n",
    "\toutput = tf.matmul(l3,output_layer['weights']) + output_layer['biases']\n",
    "\n",
    "\treturn output\n"
   ]
  },
  {
   "cell_type": "code",
   "execution_count": 14,
   "metadata": {},
   "outputs": [],
   "source": [
    "def train_neural_network(x):\n",
    "\tprediction = neural_network_model(x)\n",
    "\tcost = tf.reduce_mean(tf.nn.softmax_cross_entropy_with_logits(logits=prediction,labels=y))\n",
    "\toptimizer = tf.train.AdamOptimizer().minimize(cost)\n",
    "\t\n",
    "\thm_epochs = 10\n",
    "\twith tf.Session() as sess:\n",
    "\t\tsess.run(tf.initialize_all_variables())\n",
    "\t\tfor epoch in range(hm_epochs):\n",
    "\t\t\tepoch_loss = 0\n",
    "\t\t\tfor _ in range(int(mnist.train.num_examples/batch_size)):\n",
    "\t\t\t\tex,ey = mnist.train.next_batch(batch_size)\n",
    "\t\t\t\t_, c = sess.run([optimizer, cost], feed_dict = {x:ex, y:ey})\n",
    "\t\t\t\tepoch_loss += c \n",
    "\t\t\tprint('Epoch ',epoch+1,'completed out of ',hm_epochs,'loss:',epoch_loss)\n",
    "\t\t\n",
    "\n",
    "\n",
    "\t\tcorrect = tf.equal(tf.argmax(prediction,1), tf.argmax(y,1))\n",
    "\n",
    "\t\taccuracy = tf.reduce_mean(tf.cast(correct,'float'))\n",
    "\t\t\n",
    "\t\tprint(\"Accuracy:\",accuracy.eval({x:mnist.test.images, y:mnist.test.labels}))\n",
    "\n"
   ]
  },
  {
   "cell_type": "code",
   "execution_count": 17,
   "metadata": {},
   "outputs": [
    {
     "name": "stdout",
     "output_type": "stream",
     "text": [
      "Epoch  1 completed out of  10 loss: 1692518.4309387207\n",
      "Epoch  2 completed out of  10 loss: 401011.0684967041\n",
      "Epoch  3 completed out of  10 loss: 215946.46736345068\n",
      "Epoch  4 completed out of  10 loss: 124751.64468574524\n",
      "Epoch  5 completed out of  10 loss: 78872.24860197306\n",
      "Epoch  6 completed out of  10 loss: 48352.40349787474\n",
      "Epoch  7 completed out of  10 loss: 32325.5305182183\n",
      "Epoch  8 completed out of  10 loss: 27874.65972608328\n",
      "Epoch  9 completed out of  10 loss: 20500.551132219683\n",
      "Epoch  10 completed out of  10 loss: 17036.651308290326\n",
      "Accuracy: 0.946\n"
     ]
    }
   ],
   "source": [
    "train_neural_network(x)"
   ]
  },
  {
   "cell_type": "code",
   "execution_count": null,
   "metadata": {},
   "outputs": [],
   "source": []
  }
 ],
 "metadata": {
  "kernelspec": {
   "display_name": "Python 3",
   "language": "python",
   "name": "python3"
  },
  "language_info": {
   "codemirror_mode": {
    "name": "ipython",
    "version": 3
   },
   "file_extension": ".py",
   "mimetype": "text/x-python",
   "name": "python",
   "nbconvert_exporter": "python",
   "pygments_lexer": "ipython3",
   "version": "3.6.4"
  }
 },
 "nbformat": 4,
 "nbformat_minor": 2
}
