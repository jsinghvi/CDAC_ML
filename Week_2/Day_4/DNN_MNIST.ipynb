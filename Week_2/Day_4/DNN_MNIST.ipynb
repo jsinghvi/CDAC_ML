{
 "cells": [
  {
   "cell_type": "code",
   "execution_count": 1,
   "metadata": {},
   "outputs": [
    {
     "name": "stderr",
     "output_type": "stream",
     "text": [
      "/home/kullu/anaconda3/lib/python3.6/site-packages/h5py/__init__.py:36: FutureWarning: Conversion of the second argument of issubdtype from `float` to `np.floating` is deprecated. In future, it will be treated as `np.float64 == np.dtype(float).type`.\n",
      "  from ._conv import register_converters as _register_converters\n"
     ]
    }
   ],
   "source": [
    "import tensorflow as tf"
   ]
  },
  {
   "cell_type": "code",
<<<<<<< HEAD
<<<<<<< HEAD
   "execution_count": 2,
=======
   "execution_count": 3,
>>>>>>> 76821f729f3e96f37cd973c5226a975362a3d5c3
=======
   "execution_count": 3,
>>>>>>> 76821f729f3e96f37cd973c5226a975362a3d5c3
   "metadata": {},
   "outputs": [],
   "source": [
    "from tensorflow.examples.tutorials.mnist import input_data"
   ]
  },
  {
   "cell_type": "code",
<<<<<<< HEAD
<<<<<<< HEAD
   "execution_count": 3,
=======
   "execution_count": 4,
>>>>>>> 76821f729f3e96f37cd973c5226a975362a3d5c3
=======
   "execution_count": 4,
>>>>>>> 76821f729f3e96f37cd973c5226a975362a3d5c3
   "metadata": {},
   "outputs": [
    {
     "name": "stdout",
     "output_type": "stream",
     "text": [
<<<<<<< HEAD
<<<<<<< HEAD
      "WARNING:tensorflow:From <ipython-input-3-d7472da2d478>:1: read_data_sets (from tensorflow.contrib.learn.python.learn.datasets.mnist) is deprecated and will be removed in a future version.\n",
      "Instructions for updating:\n",
      "Please use alternatives such as official/mnist/dataset.py from tensorflow/models.\n",
      "WARNING:tensorflow:From /home/kullu/anaconda3/lib/python3.6/site-packages/tensorflow/contrib/learn/python/learn/datasets/mnist.py:260: maybe_download (from tensorflow.contrib.learn.python.learn.datasets.base) is deprecated and will be removed in a future version.\n",
      "Instructions for updating:\n",
      "Please write your own downloading logic.\n",
      "WARNING:tensorflow:From /home/kullu/anaconda3/lib/python3.6/site-packages/tensorflow/contrib/learn/python/learn/datasets/mnist.py:262: extract_images (from tensorflow.contrib.learn.python.learn.datasets.mnist) is deprecated and will be removed in a future version.\n",
      "Instructions for updating:\n",
      "Please use tf.data to implement this functionality.\n",
      "Extracting /tmp/data/train-images-idx3-ubyte.gz\n",
      "WARNING:tensorflow:From /home/kullu/anaconda3/lib/python3.6/site-packages/tensorflow/contrib/learn/python/learn/datasets/mnist.py:267: extract_labels (from tensorflow.contrib.learn.python.learn.datasets.mnist) is deprecated and will be removed in a future version.\n",
      "Instructions for updating:\n",
      "Please use tf.data to implement this functionality.\n",
      "Extracting /tmp/data/train-labels-idx1-ubyte.gz\n",
      "WARNING:tensorflow:From /home/kullu/anaconda3/lib/python3.6/site-packages/tensorflow/contrib/learn/python/learn/datasets/mnist.py:110: dense_to_one_hot (from tensorflow.contrib.learn.python.learn.datasets.mnist) is deprecated and will be removed in a future version.\n",
      "Instructions for updating:\n",
      "Please use tf.one_hot on tensors.\n",
      "WARNING:tensorflow:From /home/kullu/anaconda3/lib/python3.6/site-packages/tensorflow/contrib/learn/python/learn/datasets/base.py:252: _internal_retry.<locals>.wrap.<locals>.wrapped_fn (from tensorflow.contrib.learn.python.learn.datasets.base) is deprecated and will be removed in a future version.\n",
      "Instructions for updating:\n",
      "Please use urllib or similar directly.\n",
      "Successfully downloaded t10k-images-idx3-ubyte.gz 1648877 bytes.\n",
      "Extracting /tmp/data/t10k-images-idx3-ubyte.gz\n",
      "Successfully downloaded t10k-labels-idx1-ubyte.gz 4542 bytes.\n",
      "Extracting /tmp/data/t10k-labels-idx1-ubyte.gz\n",
      "WARNING:tensorflow:From /home/kullu/anaconda3/lib/python3.6/site-packages/tensorflow/contrib/learn/python/learn/datasets/mnist.py:290: DataSet.__init__ (from tensorflow.contrib.learn.python.learn.datasets.mnist) is deprecated and will be removed in a future version.\n",
      "Instructions for updating:\n",
      "Please use alternatives such as official/mnist/dataset.py from tensorflow/models.\n"
=======
=======
>>>>>>> 76821f729f3e96f37cd973c5226a975362a3d5c3
      "Extracting /tmp/data/train-images-idx3-ubyte.gz\n",
      "Extracting /tmp/data/train-labels-idx1-ubyte.gz\n",
      "Extracting /tmp/data/t10k-images-idx3-ubyte.gz\n",
      "Extracting /tmp/data/t10k-labels-idx1-ubyte.gz\n"
<<<<<<< HEAD
>>>>>>> 76821f729f3e96f37cd973c5226a975362a3d5c3
=======
>>>>>>> 76821f729f3e96f37cd973c5226a975362a3d5c3
     ]
    }
   ],
   "source": [
    "mnist = input_data.read_data_sets(\"/tmp/data/\",one_hot=True)"
   ]
  },
  {
   "cell_type": "code",
<<<<<<< HEAD
<<<<<<< HEAD
   "execution_count": 4,
=======
   "execution_count": 5,
>>>>>>> 76821f729f3e96f37cd973c5226a975362a3d5c3
=======
   "execution_count": 5,
>>>>>>> 76821f729f3e96f37cd973c5226a975362a3d5c3
   "metadata": {},
   "outputs": [],
   "source": [
    "n_nodes_hl1 = 500\n",
    "n_nodes_hl2 = 500\n",
    "n_nodes_hl3 = 500\n",
    "\n",
    "n_classes = 10\n",
    "batch_size = 100"
   ]
  },
  {
   "cell_type": "code",
<<<<<<< HEAD
<<<<<<< HEAD
   "execution_count": 5,
=======
   "execution_count": 6,
>>>>>>> 76821f729f3e96f37cd973c5226a975362a3d5c3
=======
   "execution_count": 6,
>>>>>>> 76821f729f3e96f37cd973c5226a975362a3d5c3
   "metadata": {},
   "outputs": [],
   "source": [
    "x = tf.placeholder('float',[None,784])\n",
    "y = tf.placeholder('float')"
   ]
  },
  {
   "cell_type": "code",
<<<<<<< HEAD
<<<<<<< HEAD
   "execution_count": 6,
=======
   "execution_count": 7,
>>>>>>> 76821f729f3e96f37cd973c5226a975362a3d5c3
=======
   "execution_count": 7,
>>>>>>> 76821f729f3e96f37cd973c5226a975362a3d5c3
   "metadata": {},
   "outputs": [],
   "source": [
    "def neural_network_model(data):\n",
    "\thidden_1_layer = {'weights':tf.Variable(tf.random_normal([784,n_nodes_hl1])),'biases':tf.Variable(tf.random_normal([n_nodes_hl1]))}\n",
    "\n",
    "\thidden_2_layer = {'weights':tf.Variable(tf.random_normal([n_nodes_hl1,n_nodes_hl2])),'biases':tf.Variable(tf.random_normal([n_nodes_hl2]))}\n",
    "\n",
    "\n",
    "\thidden_3_layer = {'weights':tf.Variable(tf.random_normal([n_nodes_hl2,n_nodes_hl3])),'biases':tf.Variable(tf.random_normal([n_nodes_hl3]))}\n",
    "\n",
    "\n",
    "\toutput_layer = {'weights':tf.Variable(tf.random_normal([n_nodes_hl3,n_classes])),'biases':tf.Variable(tf.random_normal([n_classes]))}\n",
    "\n",
    "\tl1 = tf.add(tf.matmul(data,hidden_1_layer['weights']),hidden_1_layer['biases'])\n",
    "\n",
    "\tl1 = tf.nn.relu(l1)\n",
    "\t\n",
    "\tl2 = tf.add(tf.matmul(l1,hidden_2_layer['weights']),hidden_2_layer['biases'])\n",
    "\n",
    "\tl2 = tf.nn.relu(l2)\n",
    "\t\n",
    "\tl3 = tf.add(tf.matmul(l2,hidden_3_layer['weights']),hidden_3_layer['biases'])\n",
    "\n",
    "\tl3 = tf.nn.relu(l3)\n",
    "\t\n",
    "\toutput = tf.matmul(l3,output_layer['weights']) + output_layer['biases']\n",
    "\n",
    "\treturn output\n"
   ]
  },
  {
   "cell_type": "code",
<<<<<<< HEAD
<<<<<<< HEAD
   "execution_count": 7,
=======
   "execution_count": 14,
>>>>>>> 76821f729f3e96f37cd973c5226a975362a3d5c3
=======
   "execution_count": 14,
>>>>>>> 76821f729f3e96f37cd973c5226a975362a3d5c3
   "metadata": {},
   "outputs": [],
   "source": [
    "def train_neural_network(x):\n",
    "\tprediction = neural_network_model(x)\n",
    "\tcost = tf.reduce_mean(tf.nn.softmax_cross_entropy_with_logits(logits=prediction,labels=y))\n",
    "\toptimizer = tf.train.AdamOptimizer().minimize(cost)\n",
    "\t\n",
    "\thm_epochs = 10\n",
    "\twith tf.Session() as sess:\n",
    "\t\tsess.run(tf.initialize_all_variables())\n",
    "\t\tfor epoch in range(hm_epochs):\n",
    "\t\t\tepoch_loss = 0\n",
    "\t\t\tfor _ in range(int(mnist.train.num_examples/batch_size)):\n",
    "\t\t\t\tex,ey = mnist.train.next_batch(batch_size)\n",
    "\t\t\t\t_, c = sess.run([optimizer, cost], feed_dict = {x:ex, y:ey})\n",
    "\t\t\t\tepoch_loss += c \n",
    "\t\t\tprint('Epoch ',epoch+1,'completed out of ',hm_epochs,'loss:',epoch_loss)\n",
    "\t\t\n",
    "\n",
    "\n",
    "\t\tcorrect = tf.equal(tf.argmax(prediction,1), tf.argmax(y,1))\n",
    "\n",
    "\t\taccuracy = tf.reduce_mean(tf.cast(correct,'float'))\n",
    "\t\t\n",
    "\t\tprint(\"Accuracy:\",accuracy.eval({x:mnist.test.images, y:mnist.test.labels}))\n",
    "\n"
   ]
  },
  {
   "cell_type": "code",
<<<<<<< HEAD
<<<<<<< HEAD
   "execution_count": 8,
=======
   "execution_count": 17,
>>>>>>> 76821f729f3e96f37cd973c5226a975362a3d5c3
=======
   "execution_count": 17,
>>>>>>> 76821f729f3e96f37cd973c5226a975362a3d5c3
   "metadata": {},
   "outputs": [
    {
     "name": "stdout",
     "output_type": "stream",
     "text": [
<<<<<<< HEAD
<<<<<<< HEAD
      "WARNING:tensorflow:From <ipython-input-7-fcf4c6973f42>:3: softmax_cross_entropy_with_logits (from tensorflow.python.ops.nn_ops) is deprecated and will be removed in a future version.\n",
      "Instructions for updating:\n",
      "\n",
      "Future major versions of TensorFlow will allow gradients to flow\n",
      "into the labels input on backprop by default.\n",
      "\n",
      "See @{tf.nn.softmax_cross_entropy_with_logits_v2}.\n",
      "\n",
      "WARNING:tensorflow:From /home/kullu/anaconda3/lib/python3.6/site-packages/tensorflow/python/util/tf_should_use.py:118: initialize_all_variables (from tensorflow.python.ops.variables) is deprecated and will be removed after 2017-03-02.\n",
      "Instructions for updating:\n",
      "Use `tf.global_variables_initializer` instead.\n",
      "Epoch  1 completed out of  10 loss: 1467030.3513031006\n",
      "Epoch  2 completed out of  10 loss: 378898.82120895386\n",
      "Epoch  3 completed out of  10 loss: 204861.40555787086\n",
      "Epoch  4 completed out of  10 loss: 120424.94726407528\n",
      "Epoch  5 completed out of  10 loss: 71631.29927825496\n",
      "Epoch  6 completed out of  10 loss: 44109.08270036041\n",
      "Epoch  7 completed out of  10 loss: 30812.48306798935\n",
      "Epoch  8 completed out of  10 loss: 23916.48529931903\n",
      "Epoch  9 completed out of  10 loss: 21215.368806911858\n",
      "Epoch  10 completed out of  10 loss: 17494.05236297479\n",
      "Accuracy: 0.9548\n"
=======
=======
>>>>>>> 76821f729f3e96f37cd973c5226a975362a3d5c3
      "Epoch  1 completed out of  10 loss: 1692518.4309387207\n",
      "Epoch  2 completed out of  10 loss: 401011.0684967041\n",
      "Epoch  3 completed out of  10 loss: 215946.46736345068\n",
      "Epoch  4 completed out of  10 loss: 124751.64468574524\n",
      "Epoch  5 completed out of  10 loss: 78872.24860197306\n",
      "Epoch  6 completed out of  10 loss: 48352.40349787474\n",
      "Epoch  7 completed out of  10 loss: 32325.5305182183\n",
      "Epoch  8 completed out of  10 loss: 27874.65972608328\n",
      "Epoch  9 completed out of  10 loss: 20500.551132219683\n",
      "Epoch  10 completed out of  10 loss: 17036.651308290326\n",
      "Accuracy: 0.946\n"
<<<<<<< HEAD
>>>>>>> 76821f729f3e96f37cd973c5226a975362a3d5c3
=======
>>>>>>> 76821f729f3e96f37cd973c5226a975362a3d5c3
     ]
    }
   ],
   "source": [
    "train_neural_network(x)"
   ]
  },
  {
   "cell_type": "code",
   "execution_count": null,
   "metadata": {},
   "outputs": [],
   "source": []
  }
 ],
 "metadata": {
  "kernelspec": {
   "display_name": "Python 3",
   "language": "python",
   "name": "python3"
  },
  "language_info": {
   "codemirror_mode": {
    "name": "ipython",
    "version": 3
   },
   "file_extension": ".py",
   "mimetype": "text/x-python",
   "name": "python",
   "nbconvert_exporter": "python",
   "pygments_lexer": "ipython3",
   "version": "3.6.4"
  }
 },
 "nbformat": 4,
 "nbformat_minor": 2
}
