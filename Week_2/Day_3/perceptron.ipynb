{
 "cells": [
  {
   "cell_type": "code",
   "execution_count": 19,
   "metadata": {},
   "outputs": [],
   "source": [
    "import pandas as pd\n",
    "import numpy as np"
   ]
  },
  {
   "cell_type": "code",
   "execution_count": 21,
   "metadata": {},
   "outputs": [
    {
     "name": "stdout",
     "output_type": "stream",
     "text": [
      "Enter value of first weight :0.5\n",
      "Enter value of second weight :0.5\n",
      "Enter value of bias :-1\n"
     ]
    }
   ],
   "source": [
    "weight1 = float(input(\"Enter value of first weight :\"))\n",
    "weight2 = float(input(\"Enter value of second weight :\"))\n",
    "bias = float(input(\"Enter value of bias :\"))"
   ]
  },
  {
   "cell_type": "code",
   "execution_count": 22,
   "metadata": {},
   "outputs": [],
   "source": [
    "#inputs and outputs"
   ]
  },
  {
   "cell_type": "code",
   "execution_count": 55,
   "metadata": {},
   "outputs": [],
   "source": [
    "test_inputs = [(0,0),(0,1),(1,0),(1,1)]\n",
    "correct_outputs = [False,True,False,True]\n",
    "outputs = []"
   ]
  },
  {
   "cell_type": "code",
   "execution_count": 56,
   "metadata": {},
   "outputs": [],
   "source": [
    "#Generate and test the output"
   ]
  },
  {
   "cell_type": "code",
   "execution_count": 57,
   "metadata": {},
   "outputs": [
    {
     "name": "stdout",
     "output_type": "stream",
     "text": [
      "[((0, 0), False, 'Yes'), ((0, 1), True, 'No'), ((1, 0), False, 'Yes'), ((1, 1), True, 'Yes')]\n"
     ]
    }
   ],
   "source": [
    "for test_input,correct_output in zip(test_inputs,correct_outputs):\n",
    "    linear_combination = weight1 * test_input[0] + weight2 * test_input[1] + bias\n",
    "    #print(linear_combination,end=\" \")\n",
    "    output = (linear_combination>=0)\n",
    "    is_true = 'Yes' if output==correct_output else 'No'\n",
    "    outputs.append((test_input,correct_output,is_true))\n",
    "print(outputs)"
   ]
  },
  {
   "cell_type": "code",
   "execution_count": 64,
   "metadata": {},
   "outputs": [
    {
     "name": "stdout",
     "output_type": "stream",
     "text": [
      "Nice! All right!\n"
     ]
    }
   ],
   "source": [
    "num_wrong = len([outputs[3] for output in outputs if outputs[3]=='No'])\n",
    "output_frame = pd.DataFrame(outputs,columns=['Input 1', 'Input 2', 'Input 3'])\n",
    "if not num_wrong:\n",
    "    print(\"Nice! All right!\")\n",
    "else:\n",
    "    print('You got {} wrong \\n'.format(num_wrong))"
   ]
  },
  {
   "cell_type": "code",
   "execution_count": 42,
   "metadata": {},
   "outputs": [
    {
     "data": {
      "text/plain": [
       "array([ 2.71828183,  7.3890561 , 54.59815003])"
      ]
     },
     "execution_count": 42,
     "metadata": {},
     "output_type": "execute_result"
    }
   ],
   "source": [
    "def Sigmoid(L):\n",
    "    value = np.exp(L)\n",
    "    return value\n",
    "\n",
    "Sigmoid([1,2,4])"
   ]
  },
  {
   "cell_type": "code",
   "execution_count": null,
   "metadata": {},
   "outputs": [],
   "source": []
  }
 ],
 "metadata": {
  "kernelspec": {
   "display_name": "Python 3",
   "language": "python",
   "name": "python3"
  },
  "language_info": {
   "codemirror_mode": {
    "name": "ipython",
    "version": 3
   },
   "file_extension": ".py",
   "mimetype": "text/x-python",
   "name": "python",
   "nbconvert_exporter": "python",
   "pygments_lexer": "ipython3",
   "version": "3.6.4"
  }
 },
 "nbformat": 4,
 "nbformat_minor": 2
}
