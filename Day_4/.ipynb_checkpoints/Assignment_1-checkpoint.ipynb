{
 "cells": [
  {
   "cell_type": "code",
   "execution_count": 26,
   "metadata": {},
   "outputs": [
    {
     "name": "stdout",
     "output_type": "stream",
     "text": [
      "Enter the number of rows :3\n",
      "Enter the number of columns :3\n",
      "1\n",
      "2\n",
      "1\n",
      "2\n",
      "1\n",
      "2\n",
      "1\n",
      "2\n",
      "1\n"
     ]
    }
   ],
   "source": [
    "r = int(input(\"Enter the number of rows :\"))\n",
    "c = int(input(\"Enter the number of columns :\"))\n",
    "a = [[int(input()) for x in range(r)] for y in range(c)]"
   ]
  },
  {
   "cell_type": "code",
   "execution_count": 27,
   "metadata": {},
   "outputs": [],
   "source": [
    "for i in range(r-1):\n",
    "    count=0\n",
    "    sum=0\n",
    "    for j in range(c):\n",
    "        if a[i][j]!=a[i+1][j]:\n",
    "            break\n",
    "        else:\n",
    "            sum+=a[i][j]\n",
    "            count+=1\n",
    "            continue\n",
    "    if count==3:\n",
    "        print(\"r\",i,\"r\",i+1,\"=\",sum)"
   ]
  },
  {
   "cell_type": "code",
   "execution_count": 28,
   "metadata": {},
   "outputs": [],
   "source": [
    "for i in range(r):\n",
    "    count=0\n",
    "    sum=0\n",
    "    for j in range(c-1):\n",
    "        if a[i][j]!=a[i][j+1]:\n",
    "            break\n",
    "        else:\n",
    "            sum+=a[i][j]\n",
    "            count+=1\n",
    "            continue\n",
    "    if count==3:\n",
    "        print(\"c\",j,\"c\",j+1,\"=\",sum)"
   ]
  },
  {
   "cell_type": "code",
   "execution_count": 29,
   "metadata": {},
   "outputs": [
    {
     "name": "stdout",
     "output_type": "stream",
     "text": [
      "r 1 c 1 = 4\n",
      "r 2 c 2 = 5\n",
      "r 3 c 3 = 4\n"
     ]
    }
   ],
   "source": [
    "for i in range(r):\n",
    "    count=0\n",
    "    sum=0\n",
    "    for j in range(c):\n",
    "        if a[i][j]!=a[j][i]:\n",
    "            break\n",
    "        else:\n",
    "            sum+=a[i][j]\n",
    "            count+=1\n",
    "            continue\n",
    "    if count==3:\n",
    "        print(\"r\",i+1,\"c\",i+1,\"=\",sum)"
   ]
  },
  {
   "cell_type": "code",
   "execution_count": null,
   "metadata": {},
   "outputs": [],
   "source": []
  }
 ],
 "metadata": {
  "kernelspec": {
   "display_name": "Python 3",
   "language": "python",
   "name": "python3"
  },
  "language_info": {
   "codemirror_mode": {
    "name": "ipython",
    "version": 3
   },
   "file_extension": ".py",
   "mimetype": "text/x-python",
   "name": "python",
   "nbconvert_exporter": "python",
   "pygments_lexer": "ipython3",
   "version": "3.6.4"
  }
 },
 "nbformat": 4,
 "nbformat_minor": 2
}
