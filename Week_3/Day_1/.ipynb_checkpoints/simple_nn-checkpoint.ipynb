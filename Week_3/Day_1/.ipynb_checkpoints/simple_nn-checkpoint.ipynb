{
 "cells": [
  {
   "cell_type": "code",
   "execution_count": 1,
   "metadata": {},
   "outputs": [],
   "source": [
    "import numpy as np"
   ]
  },
  {
   "cell_type": "code",
   "execution_count": 9,
   "metadata": {},
   "outputs": [],
   "source": [
    "# w1 = [[1,0,1],[0,1,0]]\n",
    "# w2 = [1,0,1]\n",
    "x = np.array([[1,2],\n",
    "             [3,4],\n",
    "             [5,6]])\n",
    "w2 = np.array([[1,2,3,4],\n",
    "             [5,6,7,8]])\n",
    "w3 = np.array([1,2,3])"
   ]
  },
  {
   "cell_type": "code",
   "execution_count": 5,
   "metadata": {},
   "outputs": [
    {
     "name": "stdout",
     "output_type": "stream",
     "text": [
      "Enter x value :3\n",
      "Enter y value :5\n",
      "Enter x value :2\n",
      "Enter y value :7\n",
      "Enter x value :8\n",
      "Enter y value :1\n"
     ]
    }
   ],
   "source": [
    "class NeuralNetwork(object):\n",
    "    def __init__(self):\n",
    "        init = self.init\n",
    "        self.n_nodes_input = 2\n",
    "        self.n_nodes_hidden = 3\n",
    "        self.n_nodes_output = 1\n",
    "    \n",
    "    def sigmoid(self,x):\n",
    "        return (1/(1+np.exp(-x)))\n",
    "    \n",
    "    def forward(self,x):\n",
    "        self.z2 = np.dot(x,w2)\n",
    "        self.a2 = sigmoid(self.z2)\n",
    "        self.z3 = np.dot(x,w3)\n",
    "        self.a3 = sigmoid(self.z3)\n",
    "        \n",
    "    def costFunction(self,x,y):\n",
    "        self.cost_value = self.z2 * x\n",
    "        return self.cost_value\n",
    "    \n"
   ]
  },
  {
   "cell_type": "code",
   "execution_count": 30,
   "metadata": {},
   "outputs": [
    {
     "name": "stdout",
     "output_type": "stream",
     "text": [
      "12.000000000097817\n"
     ]
    }
   ],
   "source": [
    "\n",
    "def f(x):\n",
    "    return x**3\n",
    "def derivativePrime(x):\n",
    "    h = 0.1*np.exp(-10)\n",
    "    y = (f(x+h)-f(x-h))/((x+h)-(x-h))\n",
    "#     print(f(x+h))\n",
    "#     print(f(x-h))\n",
    "    return y\n",
    "print(derivativePrime(2))"
   ]
  },
  {
   "cell_type": "code",
   "execution_count": null,
   "metadata": {},
   "outputs": [],
   "source": []
  }
 ],
 "metadata": {
  "kernelspec": {
   "display_name": "Python 3",
   "language": "python",
   "name": "python3"
  },
  "language_info": {
   "codemirror_mode": {
    "name": "ipython",
    "version": 3
   },
   "file_extension": ".py",
   "mimetype": "text/x-python",
   "name": "python",
   "nbconvert_exporter": "python",
   "pygments_lexer": "ipython3",
   "version": "3.6.4"
  }
 },
 "nbformat": 4,
 "nbformat_minor": 2
}
