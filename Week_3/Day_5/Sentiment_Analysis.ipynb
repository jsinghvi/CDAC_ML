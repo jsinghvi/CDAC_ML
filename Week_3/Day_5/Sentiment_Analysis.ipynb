{
 "cells": [
  {
   "cell_type": "code",
   "execution_count": 6,
   "metadata": {},
   "outputs": [],
   "source": [
    "from textblob import TextBlob"
   ]
  },
  {
   "cell_type": "code",
   "execution_count": 42,
   "metadata": {},
   "outputs": [
    {
     "data": {
      "text/plain": [
       "[Sentence(\"Winter is here\")]"
      ]
     },
     "execution_count": 42,
     "metadata": {},
     "output_type": "execute_result"
    }
   ],
   "source": [
    "data = \"Winter is here\"\n",
    "tblob = TextBlob(data)\n",
    "tblob.sentences"
   ]
  },
  {
   "cell_type": "code",
   "execution_count": 43,
   "metadata": {},
   "outputs": [
    {
     "name": "stdout",
     "output_type": "stream",
     "text": [
      "[('Winter', 'NN'), ('is', 'VBZ'), ('here', 'RB')]\n",
      "Winter is here\n",
      "0.0\n"
     ]
    }
   ],
   "source": [
    "tags = tblob.tags\n",
    "print(tags)\n",
    "for x in tblob.sentences:\n",
    "    print(x)\n",
    "    print(x.polarity)"
   ]
  },
  {
   "cell_type": "code",
   "execution_count": 46,
   "metadata": {},
   "outputs": [],
   "source": [
    "import tweepy"
   ]
  },
  {
   "cell_type": "code",
   "execution_count": 51,
   "metadata": {},
   "outputs": [
    {
     "name": "stdout",
     "output_type": "stream",
     "text": [
      "RT @BangBangtan_Esp: [TRAD TWEET] @BTS_twt\n",
      "\n",
      "Visitamos y dijimos hola a nuestros seniors BTS, que también estuvieron en #MusicBank hoy\n",
      "\n",
      "Noso…\n",
      "Sentiment(polarity=-0.75, subjectivity=1.0)\n",
      "\n",
      "Hola cuñaaa — Necesito ver los papeles https://t.co/hf2pvYPp8A\n",
      "Sentiment(polarity=0.0, subjectivity=0.0)\n",
      "\n",
      "@Danny_san21 Hola buen dia mami vas a este fin de semana a luxury confirmame vernos ahi\n",
      "Sentiment(polarity=0.0, subjectivity=0.0)\n",
      "\n",
      "RT @refuasis: Hola soy Marlon y tengo 6 añitos. Mi vida fue un poco dura , me rescataron cuando un tren me corto mis patitas de atras . Se…\n",
      "Sentiment(polarity=0.0, subjectivity=0.0)\n",
      "\n",
      "RT @chito_wilson: https://t.co/zYm7loVkAB.en.Cali.tengo.50.años.mi.3148263805.Buscando.Una.Mujer.en.Cali https://t.co/eu0x4QqUbV\n",
      "Sentiment(polarity=0.0, subjectivity=0.0)\n",
      "\n",
      "@vadenuevololyok Hola Loly, gracias ,igual para vos,  que tengas un lindo día 😘🤗\n",
      "Sentiment(polarity=0.0, subjectivity=0.0)\n",
      "\n",
      "RT @ierrejon: Hola un tiempo nuevo, que viene lleno de dificultades y retos, pero que nos saca del bloqueo y de la resignación. España tien…\n",
      "Sentiment(polarity=0.0, subjectivity=0.0)\n",
      "\n",
      "@Ayuso84 ¡Hola!, permítenos ayudarte con lo que nos comentas, para ello indícanos lo sucedido a detalle por DM o al… https://t.co/uqtd6bQ0sV\n",
      "Sentiment(polarity=0.0, subjectivity=0.0)\n",
      "\n",
      "@Kaze06634208 ¡Hola!, nos alegra que gracias a tus comentarios el servicio de embalaje de este producto mejorara y… https://t.co/oJIh6u1FA8\n",
      "Sentiment(polarity=0.0, subjectivity=0.0)\n",
      "\n",
      "RT @edukabak: Hola, @sanchezcastejon, te dejo ésto por aquí a ver qué te parece el dato, presi. https://t.co/eoobUnVtle\n",
      "Sentiment(polarity=0.0, subjectivity=0.0)\n",
      "\n",
      "@john_zeolita Hola, John. En este momento no se presenta ningún inconveniente o retraso en la prestación del servic… https://t.co/sdiZNUwC4K\n",
      "Sentiment(polarity=0.0, subjectivity=0.0)\n",
      "\n",
      "Hola Enrique. Habla María Teresa. Son las June 01, 2018 at 09:00AM. Llamame.\n",
      "Sentiment(polarity=0.0, subjectivity=0.0)\n",
      "\n",
      "@ANITTAbrowsing Hola Ana! Lamentamos mucho leer sobre esto y pedimos perdón por todos los inconvenientes causados.… https://t.co/1coDkW7xyc\n",
      "Sentiment(polarity=0.0, subjectivity=0.0)\n",
      "\n",
      "RT @MariquillaVC: Hola, @LigaIberdrola @LaLiga @rfef ! He terminado el proyecto q inicié allá por octubre para mis hijas, q querían cromos…\n",
      "Sentiment(polarity=0.0, subjectivity=0.0)\n",
      "\n",
      "Hola @ExaFmLeon quisiera escuchar OjosQueNoVen de maluma por favor para MalumaFamilyNL\n",
      "💙💛2\n",
      "Sentiment(polarity=0.0, subjectivity=0.0)\n",
      "\n"
     ]
    }
   ],
   "source": [
    "consumer_key = 'ulp3h9wqdKBUS803QRnCkfV6G'\n",
    "consumer_secret = 'hyt12ONi9RlmjxSNbozUHB9PENt7naRyxnfs8ffXdImnzgZamL'\n",
    "\n",
    "access_token = '3133596656-XnEKpJfakhH7Tj8pJJtR1wtaPaMDMqM2ZOLnfai'\n",
    "access_token_secret = 'gy0gtBuHg8U5F2OqNu2MSeiMDbQdnl1ngdgGLH2nCjgzh'\n",
    "\n",
    "auth = tweepy.OAuthHandler(consumer_key,consumer_secret)\n",
    "auth.set_access_token(access_token,access_token_secret)\n",
    "\n",
    "api = tweepy.API(auth)\n",
    "\n",
    "public_tweets = api.search('hola')\n",
    "\n",
    "for tweet in public_tweets:\n",
    "    print(tweet.text)\n",
    "    \n",
    "    analysis = TextBlob(tweet.text)\n",
    "    print(analysis.sentiment)\n",
    "    print(\"\")"
   ]
  },
  {
   "cell_type": "code",
   "execution_count": null,
   "metadata": {},
   "outputs": [],
   "source": []
  }
 ],
 "metadata": {
  "kernelspec": {
   "display_name": "Python 3",
   "language": "python",
   "name": "python3"
  },
  "language_info": {
   "codemirror_mode": {
    "name": "ipython",
    "version": 3
   },
   "file_extension": ".py",
   "mimetype": "text/x-python",
   "name": "python",
   "nbconvert_exporter": "python",
   "pygments_lexer": "ipython3",
   "version": "3.6.4"
  }
 },
 "nbformat": 4,
 "nbformat_minor": 2
}
