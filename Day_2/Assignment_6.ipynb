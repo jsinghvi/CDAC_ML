{
 "cells": [
  {
   "cell_type": "code",
   "execution_count": 11,
   "metadata": {},
   "outputs": [
    {
     "name": "stdout",
     "output_type": "stream",
     "text": [
      "Enter n :7\n",
      "            * \n",
      "          * * * \n",
      "        * * * * * \n",
      "      * * * * * * * \n",
      "    * * * * * * * * * \n",
      "  * * * * * * * * * * * \n",
      "* * * * * * * * * * * * * \n",
      "  * * * * * * * * * * * \n",
      "    * * * * * * * * * \n",
      "      * * * * * * * \n",
      "        * * * * * \n",
      "          * * * \n",
      "            * \n",
      "              \n"
     ]
    }
   ],
   "source": [
    "n = int(input(\"Enter n :\"))\n",
    "\n",
    "for i in range(0,n):\n",
    "    k=n-1\n",
    "    while k>i:\n",
    "        print(\" \",end=\" \")\n",
    "        k-=1\n",
    "    for j in range(0,(2*i)+1):\n",
    "        print(\"*\",end=\" \")\n",
    "    print()\n",
    "for i in range(0,n):\n",
    "    k=0\n",
    "    while k<i+1:\n",
    "        print(\" \",end=\" \")\n",
    "        k+=1\n",
    "    for j in range((2*n)-1,(2*i)+2,-1):\n",
    "        print(\"*\",end=\" \")\n",
    "    print()"
   ]
  },
  {
   "cell_type": "code",
   "execution_count": null,
   "metadata": {},
   "outputs": [],
   "source": []
  }
 ],
 "metadata": {
  "kernelspec": {
   "display_name": "Python 3",
   "language": "python",
   "name": "python3"
  },
  "language_info": {
   "codemirror_mode": {
    "name": "ipython",
    "version": 3
   },
   "file_extension": ".py",
   "mimetype": "text/x-python",
   "name": "python",
   "nbconvert_exporter": "python",
   "pygments_lexer": "ipython3",
   "version": "3.6.4"
  }
 },
 "nbformat": 4,
 "nbformat_minor": 2
}
